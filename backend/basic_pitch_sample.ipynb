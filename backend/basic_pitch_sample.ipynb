{
 "cells": [
  {
   "cell_type": "markdown",
   "metadata": {},
   "source": [
    "## **Usage of Basic Pitch**\n",
    "1. Inference on Basic Pitch\n",
    "2. Conversion of MIDI to Tabs\n",
    "3. Reading chords from MIDI\n",
    "4. Saving output as MIDI file"
   ]
  },
  {
   "cell_type": "code",
   "execution_count": null,
   "metadata": {
    "vscode": {
     "languageId": "plaintext"
    }
   },
   "outputs": [],
   "source": [
    "from basic_pitch.inference import predict\n",
    "from basic_pitch import ICASSP_2022_MODEL_PATH\n",
    "from mido import MidiFile, MidiTrack, Message, MetaMessage\n",
    "import mido\n"
   ]
  },
  {
   "cell_type": "markdown",
   "metadata": {},
   "source": [
    "### Inference on Basic Pitch"
   ]
  },
  {
   "cell_type": "code",
   "execution_count": null,
   "metadata": {
    "vscode": {
     "languageId": "plaintext"
    }
   },
   "outputs": [],
   "source": [
    "\n",
    "model_output, midi_data, note_events = predict('c-chord_filtered.wav')\n"
   ]
  },
  {
   "cell_type": "markdown",
   "metadata": {},
   "source": [
    "### Conversion of MIDI to Tabs"
   ]
  },
  {
   "cell_type": "code",
   "execution_count": null,
   "metadata": {
    "vscode": {
     "languageId": "plaintext"
    }
   },
   "outputs": [],
   "source": [
    "def midi_pitch_to_guitar_tab(pitch):\n",
    "    # Standard guitar tuning (from low to high)\n",
    "    guitar_tuning = [40, 45, 50, 55, 59, 64]  # E2, A2, D3, G3, B3, E4\n",
    "\n",
    "\n",
    "    best_string = 0\n",
    "    best_fret = float('inf')\n",
    "\n",
    "    for string, open_pitch in enumerate(guitar_tuning):\n",
    "        if pitch >= open_pitch:\n",
    "            fret = pitch - open_pitch\n",
    "            if fret < best_fret:\n",
    "                best_string = string\n",
    "                best_fret = fret\n",
    "\n",
    "    return 6-best_string, best_fret"
   ]
  },
  {
   "cell_type": "code",
   "execution_count": null,
   "metadata": {
    "vscode": {
     "languageId": "plaintext"
    }
   },
   "outputs": [],
   "source": [
    "\n",
    "def analyze_midi_guitar(midi_data):\n",
    "    notes = midi_data.instruments[0].notes\n",
    "    sorted_notes = sorted(notes, key=lambda x: x.start)\n",
    "\n",
    "    string_names = ['E', 'A', 'D', 'G', 'B', 'e']\n",
    "\n",
    "    tab_data = []\n",
    "    for note in sorted_notes:\n",
    "        string, fret = midi_pitch_to_guitar_tab(note.pitch)\n",
    "        if string != 1:  # Skip notes on the highest string (e)\n",
    "            new_note = ({\n",
    "                'pitch': note.pitch,\n",
    "                'string': string,\n",
    "                'fret': fret,\n",
    "                'string_name': string_names[6-string],\n",
    "                'start': note.start,\n",
    "                'end': note.end,\n",
    "                'duration': note.end - note.start,\n",
    "                'velocity': note.velocity\n",
    "            })\n",
    "\n",
    "            # Check if this note can be merged with the previous one\n",
    "            if tab_data and tab_data[-1]['pitch'] == new_note['pitch'] and \\\n",
    "               tab_data[-1]['string'] == new_note['string'] and \\\n",
    "               tab_data[-1]['fret'] == new_note['fret'] and \\\n",
    "               abs(tab_data[-1]['end'] - new_note['start']) < 0.1:  # Adjust this threshold as needed\n",
    "                # Merge with previous note\n",
    "                tab_data[-1]['end'] = new_note['end']\n",
    "                tab_data[-1]['duration'] = tab_data[-1]['end'] - tab_data[-1]['start']\n",
    "                tab_data[-1]['velocity'] = max(tab_data[-1]['velocity'], new_note['velocity'])\n",
    "            else:\n",
    "                # Add as a new note\n",
    "                tab_data.append(new_note)\n",
    "\n",
    "    return tab_data"
   ]
  },
  {
   "cell_type": "code",
   "execution_count": null,
   "metadata": {
    "vscode": {
     "languageId": "plaintext"
    }
   },
   "outputs": [],
   "source": [
    "\n",
    "# Assuming midi_data is your MIDI data object\n",
    "tab_result = analyze_midi_guitar(midi_data)\n"
   ]
  },
  {
   "cell_type": "code",
   "execution_count": null,
   "metadata": {
    "vscode": {
     "languageId": "plaintext"
    }
   },
   "outputs": [],
   "source": [
    "# Print the results\n",
    "for note in tab_result:\n",
    "    print(f\"Pitch: {note['pitch']}, String: {note['string_name']}, String no.: {note['string']}, \"\n",
    "          f\"Fret: {note['fret']}, Start: {note['start']:.2f}s, Duration: {note['duration']:.2f}s, \"\n",
    "          f\"Velocity: {note['velocity']}\")\n"
   ]
  },
  {
   "cell_type": "code",
   "execution_count": null,
   "metadata": {
    "vscode": {
     "languageId": "plaintext"
    }
   },
   "outputs": [],
   "source": [
    "\n",
    "len(tab_result)"
   ]
  },
  {
   "cell_type": "markdown",
   "metadata": {
    "vscode": {
     "languageId": "plaintext"
    }
   },
   "source": [
    "\n",
    "### Reading chords from notes"
   ]
  },
  {
   "cell_type": "code",
   "execution_count": null,
   "metadata": {
    "vscode": {
     "languageId": "plaintext"
    }
   },
   "outputs": [],
   "source": [
    "\n",
    "# Identify potential chords (notes played simultaneously)\n",
    "def identify_chords(tab_data, time_threshold=0.05):\n",
    "    chords = []\n",
    "    current_chord = []\n",
    "    \n",
    "    for i, note in enumerate(tab_data):\n",
    "        if not current_chord or note['start'] - current_chord[-1]['start'] <= time_threshold:\n",
    "            current_chord.append(note)\n",
    "        else:\n",
    "            if len(current_chord) > 1:\n",
    "                chords.append(current_chord)\n",
    "            current_chord = [note]\n",
    "        \n",
    "        if i == len(tab_data) - 1 and len(current_chord) > 1:\n",
    "            chords.append(current_chord)\n",
    "    \n",
    "    return chords\n",
    "\n",
    "chords = identify_chords(tab_result)\n",
    "\n",
    "print(\"\\nPotential Chords:\")\n",
    "for i, chord in enumerate(chords):\n",
    "    print(f\"Chord {i + 1}:\")\n",
    "    for note in chord:\n",
    "        print(f\"  String: {note['string_name']}, Fret: {note['fret']}\")\n",
    "    print()\n"
   ]
  },
  {
   "cell_type": "markdown",
   "metadata": {
    "vscode": {
     "languageId": "plaintext"
    }
   },
   "source": [
    "### Saving output as midi file"
   ]
  },
  {
   "cell_type": "code",
   "execution_count": null,
   "metadata": {
    "vscode": {
     "languageId": "plaintext"
    }
   },
   "outputs": [],
   "source": [
    "def save_midi_data(midi_data, filename):\n",
    "    mid = MidiFile()\n",
    "    track = MidiTrack()\n",
    "    mid.tracks.append(track)\n",
    "\n",
    "    # Set tempo\n",
    "    tempo = mido.bpm2tempo(120)  # Assuming 120 BPM from the original data\n",
    "    track.append(MetaMessage('set_tempo', tempo=tempo))\n",
    "\n",
    "    # Add program change for the instrument\n",
    "    track.append(Message('program_change', program=4, time=0))\n",
    "\n",
    "    # Add note events\n",
    "    for note in midi_data.instruments[0].notes:\n",
    "        # Note on\n",
    "        track.append(Message('note_on', note=note.pitch, velocity=note.velocity, \n",
    "                             time=int(note.start * 1000)))  # Convert to milliseconds\n",
    "        # Note off\n",
    "        track.append(Message('note_off', note=note.pitch, velocity=note.velocity, \n",
    "                             time=int((note.end - note.start) * 1000)))  # Duration in milliseconds\n",
    "\n",
    "    mid.save(filename)\n"
   ]
  },
  {
   "cell_type": "code",
   "execution_count": null,
   "metadata": {
    "vscode": {
     "languageId": "plaintext"
    }
   },
   "outputs": [],
   "source": [
    "# Usage\n",
    "save_midi_data(midi_data, 'output.mid')"
   ]
  }
 ],
 "metadata": {
  "language_info": {
   "name": "python"
  }
 },
 "nbformat": 4,
 "nbformat_minor": 2
}
