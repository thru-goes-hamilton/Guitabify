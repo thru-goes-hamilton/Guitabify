{
 "cells": [
  {
   "cell_type": "markdown",
   "metadata": {},
   "source": [
    "## **Custom CNN model trained on Kaggle dataset**\n",
    "\n",
    "Trained a note classifier with CNN architecture using an acoustic guitar dataset and perform inference on audio file with trained model.\n",
    "[Dataset link](https://www.kaggle.com/datasets/mohammedalkooheji/guitar-notes-dataset)\n",
    "Locally: `dataset`/`Kaggle Dataset`\n",
    "\n",
    "### Training\n",
    "- Audio is converted from time-domain to frequency domain using mel_spectogram.\n",
    "- The mel_spectorgram values are normalized.\n",
    "- The normalized mel_spectogram values are passed through 4 convolutional blocks, a flatten layer followed by fully connected network of 2 layers.\n",
    "\n",
    "### Prediction\n",
    "- Audio is converted again from time-domain to frequency-domain using mel_spectogram.\n",
    "- Onset detection(detecting when a note is played) is performed using frequency domain data and split into chunks of data. \n",
    "- Each chunk is either cropped or padded with 0s until they are of the required input size of the model.\n",
    "- Inference on model.\n",
    "- Predicted class is decoded from the model output and shown for each note.\n",
    "\n",
    "### Conclusion\n",
    "The results predicted are not as expected, some notes are close while most are completely off.\n",
    "Both model complexity and dataset have to be improved to better the result. \n",
    "\n",
    "### Future improvements\n",
    "One approach forward could be to improve the dataset and scale up the network to see if performance improves. Another alternative is to reimplementing a different architecture (basic pitch) that can handle onset and note detection in one pipeline with high quality personalised dataset"
   ]
  },
  {
   "cell_type": "markdown",
   "metadata": {},
   "source": [
    "#### Importing libraries"
   ]
  },
  {
   "cell_type": "code",
   "execution_count": 1,
   "metadata": {},
   "outputs": [],
   "source": [
    "import os\n",
    "import librosa\n",
    "import numpy as np\n",
    "import torch\n",
    "import torch.nn as nn\n",
    "import torch.optim as optim\n",
    "from torch.utils.data import DataLoader, Dataset, random_split\n",
    "from sklearn.model_selection import train_test_split\n",
    "from sklearn.preprocessing import LabelEncoder\n",
    "from torchvision import transforms\n",
    "import matplotlib.pyplot as plt\n",
    "from collections import defaultdict"
   ]
  },
  {
   "cell_type": "code",
   "execution_count": 2,
   "metadata": {},
   "outputs": [],
   "source": [
    "# Set up device (GPU if available, else CPU)\n",
    "device = torch.device(\"cuda\" if torch.cuda.is_available() else \"cpu\")"
   ]
  },
  {
   "cell_type": "markdown",
   "metadata": {},
   "source": [
    "#### Defining Dataset Class with preprocessing "
   ]
  },
  {
   "cell_type": "code",
   "execution_count": 3,
   "metadata": {},
   "outputs": [],
   "source": [
    "\n",
    "# Dataset class for handling loading and preprocessing of the data\n",
    "class GuitarDataset(Dataset):\n",
    "    def __init__(self, file_paths, labels, transform=None):\n",
    "        self.file_paths = file_paths\n",
    "        self.labels = labels\n",
    "        self.transform = transform\n",
    "\n",
    "    def __len__(self):\n",
    "        return len(self.file_paths)\n",
    "\n",
    "    def __getitem__(self, idx):\n",
    "        file_path = self.file_paths[idx]\n",
    "        label = self.labels[idx]\n",
    "        mel_spectrogram = self.process_audio(file_path)\n",
    "        mel_spectrogram = torch.from_numpy(mel_spectrogram).float()\n",
    "        label = torch.tensor(label).long()\n",
    "\n",
    "        if self.transform:\n",
    "            mel_spectrogram = self.transform(mel_spectrogram)\n",
    "        return mel_spectrogram, label\n",
    "\n",
    "    def process_audio(self, file_path):\n",
    "        y, sr = librosa.load(file_path, sr=None)  # Load audio file\n",
    "        onset_frames = librosa.onset.onset_detect(y=y, sr=sr)  # Detect onsets\n",
    "        onset_samples = librosa.frames_to_samples(onset_frames)\n",
    "\n",
    "        # Find the first segment with length > 88000\n",
    "        selected_segment = None\n",
    "        for i in range(len(onset_samples)):\n",
    "            start = onset_samples[i]\n",
    "            end = onset_samples[i+1] if i+1 < len(onset_samples) else len(y)\n",
    "            if end - start > 88000:\n",
    "                selected_segment = y[start:end]\n",
    "                break\n",
    "\n",
    "        # If no segment > 88000 found, take the longest segment\n",
    "        if selected_segment is None:\n",
    "            longest_segment_length = 0\n",
    "            for i in range(len(onset_samples)):\n",
    "                start = onset_samples[i]\n",
    "                end = onset_samples[i+1] if i+1 < len(onset_samples) else len(y)\n",
    "                if end - start > longest_segment_length:\n",
    "                    longest_segment_length = end - start\n",
    "                    selected_segment = y[start:end]\n",
    "\n",
    "        # Ensure we have a segment (in case onset detection failed)\n",
    "        if selected_segment is None:\n",
    "            selected_segment = y\n",
    "\n",
    "            # Adjust selected_segment to length 88200\n",
    "        if len(selected_segment) > 88200:\n",
    "            selected_segment = selected_segment[:88200]  # Cut if longer\n",
    "        else:\n",
    "            padding = np.zeros(88200 - len(selected_segment))\n",
    "            selected_segment = np.concatenate((selected_segment, padding))\n",
    "        \n",
    "\n",
    "        # print(\"Size of y is: \",len(selected_segment))\n",
    "\n",
    "        # Generate Mel spectrogram\n",
    "        mel_spectrogram = librosa.feature.melspectrogram(y=selected_segment, sr=sr, n_mels=128)\n",
    "        mel_spectrogram_db = librosa.power_to_db(mel_spectrogram, ref=np.max)\n",
    "\n",
    "        # Normalize\n",
    "        mel_spectrogram_db = (mel_spectrogram_db - mel_spectrogram_db.min()) / (mel_spectrogram_db.max() - mel_spectrogram_db.min())\n",
    "        return mel_spectrogram_db[np.newaxis, :, :]  # Add channel dimension\n"
   ]
  },
  {
   "cell_type": "markdown",
   "metadata": {},
   "source": [
    "#### Define CNN based Model architecture"
   ]
  },
  {
   "cell_type": "code",
   "execution_count": 4,
   "metadata": {},
   "outputs": [],
   "source": [
    "import torch\n",
    "import torch.nn as nn\n",
    "\n",
    "class CNNModel(nn.Module):\n",
    "    def __init__(self, num_classes):\n",
    "        super(CNNModel, self).__init__()\n",
    "        \n",
    "        # First convolutional layer\n",
    "        self.conv1 = nn.Conv2d(1, 16, kernel_size=3, stride=1, padding=1)\n",
    "        self.bn1 = nn.BatchNorm2d(16)\n",
    "        self.pool = nn.MaxPool2d(2, 2)\n",
    "        self.dropout1 = nn.Dropout(0.2)\n",
    "        \n",
    "        # Second convolutional layer\n",
    "        self.conv2 = nn.Conv2d(16, 32, kernel_size=3, stride=1, padding=1)\n",
    "        self.bn2 = nn.BatchNorm2d(32)\n",
    "        self.dropout2 = nn.Dropout(0.3)\n",
    "        \n",
    "        # Third convolutional layer\n",
    "        self.conv3 = nn.Conv2d(32, 64, kernel_size=3, stride=1, padding=1)\n",
    "        self.bn3 = nn.BatchNorm2d(64)\n",
    "        self.dropout3 = nn.Dropout(0.4)\n",
    "        \n",
    "        # Fourth convolutional layer\n",
    "        self.conv4 = nn.Conv2d(64, 128, kernel_size=3, stride=1, padding=1)\n",
    "        self.bn4 = nn.BatchNorm2d(128)\n",
    "        \n",
    "        # Flattened layer size calculation\n",
    "        self.flatten_size = self._get_flatten_size()\n",
    "\n",
    "        # Fully connected layers\n",
    "        self.fc1 = nn.Linear(self.flatten_size, 256)\n",
    "        self.dropout4 = nn.Dropout(0.5)\n",
    "        self.fc2 = nn.Linear(256, 128)\n",
    "        self.fc3 = nn.Linear(128, num_classes)\n",
    "\n",
    "    def _get_flatten_size(self):\n",
    "        # Dummy input to calculate size\n",
    "        x = torch.randn(1, 1, 128, 173)  # Example input size\n",
    "        x = self.pool(torch.relu(self.bn1(self.conv1(x))))\n",
    "        x = self.pool(torch.relu(self.bn2(self.conv2(x))))\n",
    "        x = self.pool(torch.relu(self.bn3(self.conv3(x))))\n",
    "        x = self.pool(torch.relu(self.bn4(self.conv4(x))))\n",
    "        return x.numel()\n",
    "\n",
    "    def forward(self, x):\n",
    "        x = self.pool(torch.relu(self.bn1(self.conv1(x))))\n",
    "        x = self.dropout1(x)\n",
    "        x = self.pool(torch.relu(self.bn2(self.conv2(x))))\n",
    "        x = self.dropout2(x)\n",
    "        x = self.pool(torch.relu(self.bn3(self.conv3(x))))\n",
    "        x = self.dropout3(x)\n",
    "        x = self.pool(torch.relu(self.bn4(self.conv4(x))))\n",
    "        x = x.view(x.size(0), -1)  # Flatten\n",
    "        x = torch.relu(self.fc1(x))\n",
    "        x = self.dropout4(x)\n",
    "        x = torch.relu(self.fc2(x))\n",
    "        x = self.fc3(x)\n",
    "        return x\n"
   ]
  },
  {
   "cell_type": "code",
   "execution_count": 5,
   "metadata": {},
   "outputs": [],
   "source": [
    "\n",
    "# # Function to traverse the dataset folder and load files\n",
    "# def load_dataset(dataset_path):\n",
    "#     file_paths = []\n",
    "#     labels = []\n",
    "\n",
    "#     for root, dirs, files in os.walk(dataset_path):\n",
    "#         for subfolder in dirs:\n",
    "#             subfolder_path = os.path.join(root, subfolder)\n",
    "#             for file in os.listdir(subfolder_path):\n",
    "#                 if file.endswith('.wav'):\n",
    "#                     print(file)\n",
    "#                     file_paths.append(os.path.join(subfolder_path, file))\n",
    "#                     labels.append(subfolder)  # Use the folder name as label\n",
    "    \n",
    "#     # Encode labels as integers\n",
    "#     label_encoder = LabelEncoder()\n",
    "#     encoded_labels = label_encoder.fit_transform(labels)\n",
    "\n",
    "#     return file_paths, encoded_labels, label_encoder\n"
   ]
  },
  {
   "cell_type": "markdown",
   "metadata": {},
   "source": [
    "#### Function to load dataset and perform stratified sampling\n"
   ]
  },
  {
   "cell_type": "code",
   "execution_count": 6,
   "metadata": {},
   "outputs": [],
   "source": [
    "def load_dataset_and_split(dataset_path):\n",
    "    file_paths = []\n",
    "    labels = []\n",
    "\n",
    "    for root, dirs, files in os.walk(dataset_path):\n",
    "        for subfolder in dirs:\n",
    "            subfolder_path = os.path.join(root, subfolder)\n",
    "            for file in os.listdir(subfolder_path):\n",
    "                if file.endswith('.wav'):\n",
    "                    file_paths.append(os.path.join(subfolder_path, file))\n",
    "                    labels.append(subfolder)  # Use the folder name as label\n",
    "    \n",
    "    # Encode labels as integers\n",
    "    label_encoder = LabelEncoder()\n",
    "    encoded_labels = label_encoder.fit_transform(labels)\n",
    "\n",
    "    # Create a dictionary to store file paths for each class\n",
    "    class_files = defaultdict(list)\n",
    "    for file_path, label in zip(file_paths, encoded_labels):\n",
    "        class_files[label].append(file_path)\n",
    "\n",
    "    # Perform stratified sampling\n",
    "    train_files = []\n",
    "    test_files = []\n",
    "    train_labels = []\n",
    "    test_labels = []\n",
    "\n",
    "    for label, files in class_files.items():\n",
    "        # Select one sample for test set\n",
    "        test_sample = np.random.choice(files)\n",
    "        test_files.append(test_sample)\n",
    "        test_labels.append(label)\n",
    "\n",
    "        # Add remaining samples to train set\n",
    "        train_samples = [f for f in files if f != test_sample]\n",
    "        train_files.extend(train_samples)\n",
    "        train_labels.extend([label] * len(train_samples))\n",
    "\n",
    "    return train_files, test_files, np.array(train_labels), np.array(test_labels), label_encoder\n"
   ]
  },
  {
   "cell_type": "markdown",
   "metadata": {},
   "source": [
    "\n",
    "#### Train the model\n"
   ]
  },
  {
   "cell_type": "code",
   "execution_count": 7,
   "metadata": {},
   "outputs": [],
   "source": [
    "def train_model(model, train_loader, test_loader, num_epochs=10):\n",
    "    criterion = nn.CrossEntropyLoss()\n",
    "    optimizer = optim.Adam(model.parameters(), lr=0.001)\n",
    "    device = torch.device(\"cuda\" if torch.cuda.is_available() else \"cpu\")\n",
    "    model = model.to(device)\n",
    "\n",
    "    for epoch in range(num_epochs):\n",
    "        model.train()\n",
    "        running_loss = 0.0\n",
    "        for inputs, labels in train_loader:\n",
    "            inputs, labels = inputs.to(device), labels.to(device)\n",
    "\n",
    "            optimizer.zero_grad()\n",
    "            outputs = model(inputs)\n",
    "            loss = criterion(outputs, labels)\n",
    "            loss.backward()\n",
    "            optimizer.step()\n",
    "\n",
    "            running_loss += loss.item()\n",
    "\n",
    "        print(f\"Epoch [{epoch+1}/{num_epochs}], Loss: {running_loss/len(train_loader)}\")\n",
    "\n",
    "    # Evaluation on the test set\n",
    "    model.eval()\n",
    "    correct = 0\n",
    "    total = 0\n",
    "    with torch.no_grad():\n",
    "        for inputs, labels in test_loader:\n",
    "            inputs, labels = inputs.to(device), labels.to(device)\n",
    "            outputs = model(inputs)\n",
    "            _, predicted = torch.max(outputs.data, 1)\n",
    "            total += labels.size(0)\n",
    "            correct += (predicted == labels).sum().item()\n",
    "\n",
    "    accuracy = 100 * correct / total\n",
    "    print(f\"Test Accuracy: {accuracy:.2f}%\")\n"
   ]
  },
  {
   "cell_type": "code",
   "execution_count": 8,
   "metadata": {},
   "outputs": [],
   "source": [
    "# # Function to visualize spectrograms for all data points in the dataset\n",
    "# def visualize_all_spectrograms(dataset):\n",
    "#     num_samples = len(dataset)\n",
    "#     fig, axes = plt.subplots(num_samples, 1, figsize=(10, 4 * num_samples))\n",
    "\n",
    "#     for i in range(num_samples):\n",
    "#         mel_spectrogram, label = dataset[i]\n",
    "#         mel_spectrogram = mel_spectrogram.squeeze().numpy()\n",
    "\n",
    "#         axes[i].imshow(mel_spectrogram, aspect='auto', origin='lower', cmap='viridis')\n",
    "#         axes[i].set_title(f\"Label: {label.item()}, Shape: {mel_spectrogram.shape}\")\n",
    "#         axes[i].set_xlabel('Time')\n",
    "#         axes[i].set_ylabel('Mel Frequency')\n",
    "\n",
    "#     plt.tight_layout()\n",
    "#     plt.show()\n"
   ]
  },
  {
   "cell_type": "markdown",
   "metadata": {},
   "source": [
    "#### Set Dataset path and load dataset"
   ]
  },
  {
   "cell_type": "code",
   "execution_count": null,
   "metadata": {},
   "outputs": [],
   "source": [
    "\n",
    "dataset_path = '/datasets/Kaggle Dataset'  # Root directory containing the dataset\n",
    "train_files, test_files, train_labels, test_labels, label_encoder = load_dataset_and_split(dataset_path)\n"
   ]
  },
  {
   "cell_type": "markdown",
   "metadata": {},
   "source": [
    "#### Initialize dataset and dataloaders"
   ]
  },
  {
   "cell_type": "code",
   "execution_count": 10,
   "metadata": {},
   "outputs": [],
   "source": [
    "train_dataset = GuitarDataset(train_files, train_labels)\n",
    "test_dataset = GuitarDataset(test_files, test_labels)\n"
   ]
  },
  {
   "cell_type": "code",
   "execution_count": 11,
   "metadata": {},
   "outputs": [],
   "source": [
    "\n",
    "train_loader = DataLoader(train_dataset, batch_size=16, shuffle=True)\n",
    "test_loader = DataLoader(test_dataset, batch_size=16, shuffle=False)\n"
   ]
  },
  {
   "cell_type": "markdown",
   "metadata": {},
   "source": [
    "\n",
    "#### Define the model\n"
   ]
  },
  {
   "cell_type": "code",
   "execution_count": 12,
   "metadata": {},
   "outputs": [],
   "source": [
    "num_classes = len(label_encoder.classes_)\n",
    "model = CNNModel(num_classes)\n"
   ]
  },
  {
   "cell_type": "markdown",
   "metadata": {},
   "source": [
    "\n",
    "#### Train and evaluate the model\n"
   ]
  },
  {
   "cell_type": "code",
   "execution_count": 13,
   "metadata": {},
   "outputs": [
    {
     "name": "stdout",
     "output_type": "stream",
     "text": [
      "Epoch [1/20], Loss: 3.8209384077050714\n",
      "Epoch [2/20], Loss: 3.3322957419277577\n",
      "Epoch [3/20], Loss: 2.766484773560856\n",
      "Epoch [4/20], Loss: 2.579025088401323\n",
      "Epoch [5/20], Loss: 2.50613162490759\n",
      "Epoch [6/20], Loss: 2.3791420647267545\n",
      "Epoch [7/20], Loss: 2.322460119643908\n",
      "Epoch [8/20], Loss: 2.2223473948039367\n",
      "Epoch [9/20], Loss: 2.153310735573929\n",
      "Epoch [10/20], Loss: 2.1029237147127646\n",
      "Epoch [11/20], Loss: 2.1095593096165173\n",
      "Epoch [12/20], Loss: 2.016635233096862\n",
      "Epoch [13/20], Loss: 1.8757027494773437\n",
      "Epoch [14/20], Loss: 1.849345313029343\n",
      "Epoch [15/20], Loss: 1.8022479890437608\n",
      "Epoch [16/20], Loss: 1.7047358724508392\n",
      "Epoch [17/20], Loss: 1.6160466255766621\n",
      "Epoch [18/20], Loss: 1.5977791286586376\n",
      "Epoch [19/20], Loss: 1.5764851951867007\n",
      "Epoch [20/20], Loss: 1.4322114265366885\n",
      "Test Accuracy: 65.12%\n"
     ]
    }
   ],
   "source": [
    "train_model(model, train_loader, test_loader, num_epochs=20)\n"
   ]
  },
  {
   "cell_type": "markdown",
   "metadata": {},
   "source": [
    "#### Save model with model name"
   ]
  },
  {
   "cell_type": "code",
   "execution_count": 14,
   "metadata": {},
   "outputs": [],
   "source": [
    "torch.save(model.state_dict(), 'model4.pth')\n"
   ]
  },
  {
   "cell_type": "markdown",
   "metadata": {},
   "source": [
    "#### Define function to predict notes"
   ]
  },
  {
   "cell_type": "code",
   "execution_count": 15,
   "metadata": {},
   "outputs": [],
   "source": [
    "def predict_notes(audio_file_path, model, label_encoder):\n",
    "    # Load the audio file\n",
    "    y, sr = librosa.load(audio_file_path, sr=None)\n",
    "    \n",
    "    # Detect onsets\n",
    "    onset_frames = librosa.onset.onset_detect(y=y, sr=sr,\n",
    "                                          backtrack=False, \n",
    "                                          pre_max=100,      # Increase this value\n",
    "                                          post_max=10,     # Increase this value\n",
    "                                          pre_avg=100,      # Increase this value\n",
    "                                          post_avg=50,     # Increase this value\n",
    "                                          delta=0.1,       # Increase this threshold value\n",
    "                                          wait=0)\n",
    "    onset_samples = librosa.frames_to_samples(onset_frames)\n",
    "    \n",
    "    # Add the end of the audio as the last onset\n",
    "    onset_samples = np.append(onset_samples, len(y))\n",
    "\n",
    "    \n",
    "    # Optional: Visualize the audio waveform and onset points\n",
    "    plt.figure(figsize=(12, 4))\n",
    "    librosa.display.waveshow(y, sr=sr)\n",
    "    plt.vlines(librosa.frames_to_time(onset_frames, sr=sr), -1, 1, color='r', linestyle='--', label='Onsets')\n",
    "    plt.title('Audio Waveform with Detected Onsets')\n",
    "    plt.xlabel('Time')\n",
    "    plt.ylabel('Amplitude')\n",
    "    plt.legend()\n",
    "    plt.show()\n",
    "    \n",
    "    segments = []\n",
    "    for i in range(len(onset_samples) - 1):\n",
    "        start = onset_samples[i]\n",
    "        end = onset_samples[i + 1]\n",
    "        \n",
    "        # Get the segment of the audio\n",
    "        segment = y[start:end]\n",
    "\n",
    "        print(f\"Size of segment{i} before: \",len(segment))\n",
    "        \n",
    "        if len(segment) < 44100:\n",
    "            continue\n",
    "        # Crop the segment to 88,200 samples if longer\n",
    "        if len(segment) > 88200:\n",
    "            segment = segment[:88200]\n",
    "        \n",
    "        # Pad with zeros if the segment length is less than 44,100 samples\n",
    "        elif len(segment) < 88200:\n",
    "            padding = 88200 - len(segment)\n",
    "            segment = np.pad(segment, (0, padding), 'constant')\n",
    "\n",
    "        print(f\"Size of segment{i} after: \",len(segment))\n",
    "        \n",
    "        segments.append(segment)\n",
    "\n",
    "    \n",
    "    predictions = []\n",
    "    \n",
    "    for segment in segments:\n",
    "        # Generate Mel spectrogram\n",
    "        mel_spectrogram = librosa.feature.melspectrogram(y=segment, sr=sr, n_mels=128)\n",
    "        mel_spectrogram_db = librosa.power_to_db(mel_spectrogram, ref=np.max)\n",
    "        \n",
    "        # Normalize\n",
    "        mel_spectrogram_db = (mel_spectrogram_db - mel_spectrogram_db.min()) / (mel_spectrogram_db.max() - mel_spectrogram_db.min())\n",
    "        \n",
    "        # Add channel dimension and convert to tensor\n",
    "        mel_spectrogram_db = torch.from_numpy(mel_spectrogram_db[np.newaxis, :, :]).float()\n",
    "        \n",
    "        # Print shape for verification\n",
    "        print(f\"Mel spectrogram shape: {mel_spectrogram_db.shape}\")\n",
    "        \n",
    "        # Make prediction\n",
    "        model.eval()\n",
    "        with torch.no_grad():\n",
    "            output = model(mel_spectrogram_db.unsqueeze(0))  # Add batch dimension\n",
    "            _, predicted = torch.max(output, 1)\n",
    "            predicted_label = label_encoder.inverse_transform(predicted.numpy())[0]\n",
    "            predictions.append(predicted_label)\n",
    "    \n",
    "    return predictions\n"
   ]
  },
  {
   "cell_type": "markdown",
   "metadata": {},
   "source": [
    "#### Load trained model"
   ]
  },
  {
   "cell_type": "code",
   "execution_count": 16,
   "metadata": {},
   "outputs": [
    {
     "name": "stderr",
     "output_type": "stream",
     "text": [
      "C:\\Users\\Kavitha\\AppData\\Local\\Temp\\ipykernel_828\\2310939533.py:2: FutureWarning: You are using `torch.load` with `weights_only=False` (the current default value), which uses the default pickle module implicitly. It is possible to construct malicious pickle data which will execute arbitrary code during unpickling (See https://github.com/pytorch/pytorch/blob/main/SECURITY.md#untrusted-models for more details). In a future release, the default value for `weights_only` will be flipped to `True`. This limits the functions that could be executed during unpickling. Arbitrary objects will no longer be allowed to be loaded via this mode unless they are explicitly allowlisted by the user via `torch.serialization.add_safe_globals`. We recommend you start setting `weights_only=True` for any use case where you don't have full control of the loaded file. Please open an issue on GitHub for any issues related to this experimental feature.\n",
      "  model.load_state_dict(torch.load('model4.pth'))\n"
     ]
    },
    {
     "data": {
      "text/plain": [
       "<All keys matched successfully>"
      ]
     },
     "execution_count": 16,
     "metadata": {},
     "output_type": "execute_result"
    }
   ],
   "source": [
    "model = CNNModel(num_classes=len(label_encoder.classes_))\n",
    "model.load_state_dict(torch.load('model4.pth'))"
   ]
  },
  {
   "cell_type": "markdown",
   "metadata": {},
   "source": [
    "\n",
    "#### Path to your audio file to predict\n"
   ]
  },
  {
   "cell_type": "code",
   "execution_count": 17,
   "metadata": {},
   "outputs": [],
   "source": [
    "audio_file_path = 'c-chord.wav'\n"
   ]
  },
  {
   "cell_type": "markdown",
   "metadata": {},
   "source": [
    "\n",
    "#### Predict notes\n"
   ]
  },
  {
   "cell_type": "code",
   "execution_count": 18,
   "metadata": {},
   "outputs": [
    {
     "data": {
      "image/png": "[encoded data removed]",
      "text/plain": [
       "<Figure size 1200x400 with 1 Axes>"
      ]
     },
     "metadata": {},
     "output_type": "display_data"
    },
    {
     "name": "stdout",
     "output_type": "stream",
     "text": [
      "Size of segment0 before:  90624\n",
      "Size of segment0 after:  88200\n",
      "Size of segment1 before:  80896\n",
      "Size of segment1 after:  88200\n",
      "Size of segment2 before:  79360\n",
      "Size of segment2 after:  88200\n",
      "Size of segment3 before:  89088\n",
      "Size of segment3 after:  88200\n",
      "Size of segment4 before:  92160\n",
      "Size of segment4 after:  88200\n",
      "Size of segment5 before:  105472\n",
      "Size of segment5 after:  88200\n",
      "Size of segment6 before:  77824\n",
      "Size of segment6 after:  88200\n",
      "Size of segment7 before:  91648\n",
      "Size of segment7 after:  88200\n",
      "Size of segment8 before:  79360\n",
      "Size of segment8 after:  88200\n",
      "Size of segment9 before:  78336\n",
      "Size of segment9 after:  88200\n",
      "Size of segment10 before:  77824\n",
      "Size of segment10 after:  88200\n",
      "Size of segment11 before:  84992\n",
      "Size of segment11 after:  88200\n",
      "Size of segment12 before:  57212\n",
      "Size of segment12 after:  88200\n",
      "Mel spectrogram shape: torch.Size([1, 128, 173])\n",
      "Mel spectrogram shape: torch.Size([1, 128, 173])\n",
      "Mel spectrogram shape: torch.Size([1, 128, 173])\n",
      "Mel spectrogram shape: torch.Size([1, 128, 173])\n",
      "Mel spectrogram shape: torch.Size([1, 128, 173])\n",
      "Mel spectrogram shape: torch.Size([1, 128, 173])\n",
      "Mel spectrogram shape: torch.Size([1, 128, 173])\n",
      "Mel spectrogram shape: torch.Size([1, 128, 173])\n",
      "Mel spectrogram shape: torch.Size([1, 128, 173])\n",
      "Mel spectrogram shape: torch.Size([1, 128, 173])\n",
      "Mel spectrogram shape: torch.Size([1, 128, 173])\n",
      "Mel spectrogram shape: torch.Size([1, 128, 173])\n",
      "Mel spectrogram shape: torch.Size([1, 128, 173])\n"
     ]
    }
   ],
   "source": [
    "predicted_notes= predict_notes(audio_file_path, model, label_encoder)\n"
   ]
  },
  {
   "cell_type": "markdown",
   "metadata": {},
   "source": [
    "\n",
    "#### Display the list of predicted notes\n"
   ]
  },
  {
   "cell_type": "code",
   "execution_count": 19,
   "metadata": {},
   "outputs": [
    {
     "name": "stdout",
     "output_type": "stream",
     "text": [
      "Predicted Notes:\n",
      "Segment 1: Asharp2\n",
      "Segment 2: Dsharp3\n",
      "Segment 3: B3\n",
      "Segment 4: C4\n",
      "Segment 5: B3\n",
      "Segment 6: E2\n",
      "Segment 7: C3\n",
      "Segment 8: E2\n",
      "Segment 9: B3\n",
      "Segment 10: Csharp4\n",
      "Segment 11: B3\n",
      "Segment 12: E2\n",
      "Segment 13: Dsharp3\n"
     ]
    }
   ],
   "source": [
    "print(\"Predicted Notes:\")\n",
    "for i, note in enumerate(predicted_notes):\n",
    "    print(f\"Segment {i+1}: {note}\")\n"
   ]
  },
  {
   "cell_type": "markdown",
   "metadata": {},
   "source": [
    "#### Conclusion\n"
   ]
  },
  {
   "cell_type": "markdown",
   "metadata": {},
   "source": [
    "The results predicted are not as expected, some notes are close while most are completely off.\n",
    "Both model complexity and dataset have to be improved to better the result. \n",
    "\n",
    "One approach forward could be to improve the dataset and scale up the network to see if performance improves\n",
    "\n",
    "Anothe alternative is to reimplementing a different architecture (basic pitch) that can handle onset and note detection in one pipeline with high quality personalised dataset"
   ]
  },
  {
   "cell_type": "markdown",
   "metadata": {},
   "source": []
  }
 ],
 "metadata": {
  "kernelspec": {
   "display_name": "guitabify_venv",
   "language": "python",
   "name": "python3"
  },
  "language_info": {
   "codemirror_mode": {
    "name": "ipython",
    "version": 3
   },
   "file_extension": ".py",
   "mimetype": "text/x-python",
   "name": "python",
   "nbconvert_exporter": "python",
   "pygments_lexer": "ipython3",
   "version": "3.11.9"
  }
 },
 "nbformat": 4,
 "nbformat_minor": 2
}
